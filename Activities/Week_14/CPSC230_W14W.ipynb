{
 "cells": [
  {
   "cell_type": "markdown",
   "metadata": {},
   "source": [
    "## PySimpleGUI\n",
    "Documentation here: https://www.pysimplegui.org/en/latest/"
   ]
  },
  {
   "cell_type": "code",
   "execution_count": 1,
   "metadata": {},
   "outputs": [],
   "source": [
    "import PySimpleGUI as sg"
   ]
  },
  {
   "cell_type": "markdown",
   "metadata": {},
   "source": [
    "## A simple GUI"
   ]
  },
  {
   "cell_type": "code",
   "execution_count": 2,
   "metadata": {},
   "outputs": [
    {
     "ename": "",
     "evalue": "",
     "output_type": "error",
     "traceback": [
      "\u001b[1;31mThe Kernel crashed while executing code in the the current cell or a previous cell. Please review the code in the cell(s) to identify a possible cause of the failure. Click <a href='https://aka.ms/vscodeJupyterKernelCrash'>here</a> for more info. View Jupyter <a href='command:jupyter.viewOutput'>log</a> for further details."
     ]
    }
   ],
   "source": [
    "sg.theme('Purple')   # Add a touch of color\n",
    "\n",
    "# All the stuff inside your window.\n",
    "layout = [  [sg.Text('Some text on Row 1')],\n",
    "            #[sg.Text('Some text on Row 1', text_color='blue', background_color='green')],\n",
    "            [sg.Text('Enter something on Row 2'), sg.InputText()],\n",
    "            [sg.Text('Enter something on Row 3'), sg.InputText()],\n",
    "            [sg.Button('Ok'), sg.Button('Exit')] ]\n",
    "\n",
    "# Create the Window\n",
    "window = sg.Window('Window Title', layout)\n",
    "# Event Loop to process \"events\" and get the \"values\" of the inputs\n",
    "while True:\n",
    "    event, values = window.read()\n",
    "    if event == sg.WIN_CLOSED or event == 'Exit': # if user closes window or clicks cancel\n",
    "        break\n",
    "    print('Value 0 is', values[0])\n",
    "    print('Value 1 is', values[1])\n",
    "\n",
    "window.close()"
   ]
  },
  {
   "cell_type": "code",
   "execution_count": null,
   "metadata": {},
   "outputs": [],
   "source": [
    "## Text inputs stored as a dictionary in a variable called \"values\"\n",
    "print(type(values))\n",
    "print(values[0])\n",
    "print(values[1])\n",
    "print(int(values[1])*10)"
   ]
  },
  {
   "cell_type": "code",
   "execution_count": 10,
   "metadata": {},
   "outputs": [],
   "source": [
    "sg.theme_previewer()\n",
    "\n",
    "# Customizing the elements\n",
    "# https://www.pysimplegui.org/en/latest/call%20reference/#the-elements"
   ]
  },
  {
   "cell_type": "markdown",
   "metadata": {},
   "source": [
    "## A more complicate GUI\n",
    "Add two user specified numbers"
   ]
  },
  {
   "cell_type": "code",
   "execution_count": 8,
   "metadata": {},
   "outputs": [],
   "source": [
    "# define display numbers ahead of time\n",
    "result = 0\n",
    "\n",
    "# Add color, look up other themes online\n",
    "sg.theme('DarkAmber')   \n",
    "\n",
    "# All the stuff inside your window.\n",
    "# Note, square brackets seperate lines in the window\n",
    "layout = [  [sg.Text('Some text on Row 1')], # just text\n",
    "            [sg.Text('Enter something on Row 2'), sg.InputText()], # text + input box\n",
    "            [sg.Text('Enter something on Row 3'), sg.InputText()], # text + input box\n",
    "            [sg.Button('Calculate'), sg.Button('Exit')], # buttons\n",
    "            [sg.Text(result, key = 'addThese')] # calculations (set key to re-plot)\n",
    "            ]\n",
    "\n",
    "# Create the Window\n",
    "window = sg.Window('AddThese', layout)\n",
    "\n",
    "while True:\n",
    "    event, values = window.read()\n",
    "    # user input is stored in a dictionary called \"values\"\n",
    "    # the keys are just integers and are assigned in the order they appear\n",
    "    num1 = int(values[0])\n",
    "    num2 = int(values[1])\n",
    "    if event == sg.WIN_CLOSED or event == 'Exit': # if user closes window or clicks cancel\n",
    "        break\n",
    "    elif event == \"Calculate\": # if the user hits \"Calculate\" add their numbers\n",
    "        window['addThese'].update(str(num1+num2))\n",
    "\n",
    "window.close()"
   ]
  },
  {
   "cell_type": "code",
   "execution_count": 9,
   "metadata": {},
   "outputs": [
    {
     "name": "stdout",
     "output_type": "stream",
     "text": [
      "{0: '10', 1: '11'}\n"
     ]
    }
   ],
   "source": [
    "## Text inputs stored as a dictionary in a variable called \"values\"\n",
    "print(type(values))\n",
    "print(values[0])\n",
    "print(values[1])"
   ]
  }
 ],
 "metadata": {
  "kernelspec": {
   "display_name": "Python 3",
   "language": "python",
   "name": "python3"
  },
  "language_info": {
   "codemirror_mode": {
    "name": "ipython",
    "version": 3
   },
   "file_extension": ".py",
   "mimetype": "text/x-python",
   "name": "python",
   "nbconvert_exporter": "python",
   "pygments_lexer": "ipython3",
   "version": "3.12.0"
  }
 },
 "nbformat": 4,
 "nbformat_minor": 2
}
